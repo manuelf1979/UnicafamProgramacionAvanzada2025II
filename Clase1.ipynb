{
  "nbformat": 4,
  "nbformat_minor": 0,
  "metadata": {
    "colab": {
      "provenance": [],
      "authorship_tag": "ABX9TyPm0BwxAkVc1X7QT5XbjqTI",
      "include_colab_link": true
    },
    "kernelspec": {
      "name": "python3",
      "display_name": "Python 3"
    },
    "language_info": {
      "name": "python"
    }
  },
  "cells": [
    {
      "cell_type": "markdown",
      "metadata": {
        "id": "view-in-github",
        "colab_type": "text"
      },
      "source": [
        "<a href=\"https://colab.research.google.com/github/manuelf1979/UnicafamProgramacionAvanzada2025II/blob/main/Clase1.ipynb\" target=\"_parent\"><img src=\"https://colab.research.google.com/assets/colab-badge.svg\" alt=\"Open In Colab\"/></a>"
      ]
    },
    {
      "cell_type": "markdown",
      "source": [
        "**Introduccion a Phyton**\n",
        "\n",
        "Programación avanzada\n",
        "\n",
        "Ingenieria Industrial\n",
        "\n",
        "Facultad de Ingenieria\n",
        "\n",
        "Unicafam\n",
        "\n",
        "Docente: Nicolas Mojica\n",
        "\n",
        "Estudiante: Manuel Fajardo\n",
        "\n",
        "\n",
        "\n",
        "---\n",
        "\n"
      ],
      "metadata": {
        "id": "U1so7psizHG2"
      }
    },
    {
      "cell_type": "markdown",
      "source": [
        "## 1.Comentarios de codigo"
      ],
      "metadata": {
        "id": "W0aWQQYW0Q40"
      }
    },
    {
      "cell_type": "code",
      "execution_count": 1,
      "metadata": {
        "colab": {
          "base_uri": "https://localhost:8080/"
        },
        "id": "xqEpcdnwyqcJ",
        "outputId": "0fe2ae08-421b-4857-8ace-031b04de5e8d"
      },
      "outputs": [
        {
          "output_type": "stream",
          "name": "stdout",
          "text": [
            "hola mundo\n"
          ]
        }
      ],
      "source": [
        "#este es un comentario de una sola linea\n",
        "print(\"hola mundo\")\n"
      ]
    },
    {
      "cell_type": "code",
      "source": [
        "\"\"\"este comentario\n",
        "es para\n",
        "varias lineas\"\"\"\n",
        "print(\"hola mundo\")"
      ],
      "metadata": {
        "colab": {
          "base_uri": "https://localhost:8080/"
        },
        "id": "zg5H1zL-1UKq",
        "outputId": "f26cacf4-9989-4f48-a10d-d7c11da1d423"
      },
      "execution_count": 2,
      "outputs": [
        {
          "output_type": "stream",
          "name": "stdout",
          "text": [
            "hola mundo\n"
          ]
        }
      ]
    },
    {
      "cell_type": "markdown",
      "source": [
        "## 2.Variables"
      ],
      "metadata": {
        "id": "4AXb3l0h2fqr"
      }
    },
    {
      "cell_type": "code",
      "source": [
        "# reglas para nombrar una variable\n",
        "# 1. No caracteres especiales - no espacios\n",
        "# 2. Las variables son sesibles a las mayusculas y a las minusculas\n",
        "# 3. Las variables se trasforman o cambian a traves del codigo\n",
        "var=\"hola mundo\"\n",
        "print(var)"
      ],
      "metadata": {
        "colab": {
          "base_uri": "https://localhost:8080/"
        },
        "id": "Q3Ixv2_q2ei1",
        "outputId": "5adf785c-7088-41c9-ff93-bbb3f42297ac"
      },
      "execution_count": 3,
      "outputs": [
        {
          "output_type": "stream",
          "name": "stdout",
          "text": [
            "hola mundo\n"
          ]
        }
      ]
    },
    {
      "cell_type": "markdown",
      "source": [
        "## 3.Tipos de datos"
      ],
      "metadata": {
        "id": "Ynb8fpmz4qbv"
      }
    },
    {
      "cell_type": "code",
      "source": [
        "# Numericos\n",
        "# Enteros - Integer\n",
        "entero=42\n",
        "entero_literal=int(42)\n",
        "type(entero)\n",
        "type(entero_literal)"
      ],
      "metadata": {
        "colab": {
          "base_uri": "https://localhost:8080/"
        },
        "id": "r-NGiJ2O4A_U",
        "outputId": "79782bae-5077-4c2a-9e80-86da5e9227e9"
      },
      "execution_count": 5,
      "outputs": [
        {
          "output_type": "execute_result",
          "data": {
            "text/plain": [
              "int"
            ]
          },
          "metadata": {},
          "execution_count": 5
        }
      ]
    },
    {
      "cell_type": "code",
      "source": [
        "# Decimales - float\n",
        "decimal=3.14\n",
        "decimal_literal=float(3.14)\n",
        "type(decimal)"
      ],
      "metadata": {
        "colab": {
          "base_uri": "https://localhost:8080/"
        },
        "id": "dJgQFBRW59z0",
        "outputId": "1f987091-db50-45ba-facb-bd174a887609"
      },
      "execution_count": 6,
      "outputs": [
        {
          "output_type": "execute_result",
          "data": {
            "text/plain": [
              "float"
            ]
          },
          "metadata": {},
          "execution_count": 6
        }
      ]
    },
    {
      "cell_type": "code",
      "source": [
        "# Conversion de tipos de datos\n",
        "entero_convertido=float(entero)\n",
        "print(entero_convertido)\n",
        "type(entero_convertido)"
      ],
      "metadata": {
        "colab": {
          "base_uri": "https://localhost:8080/"
        },
        "id": "SQXovqii7Khz",
        "outputId": "f2db4ea0-609a-438a-8fb0-d145580bc7a8"
      },
      "execution_count": 9,
      "outputs": [
        {
          "output_type": "stream",
          "name": "stdout",
          "text": [
            "42.0\n"
          ]
        },
        {
          "output_type": "execute_result",
          "data": {
            "text/plain": [
              "float"
            ]
          },
          "metadata": {},
          "execution_count": 9
        }
      ]
    },
    {
      "cell_type": "code",
      "source": [
        "# valores de cadena de datos o de texto - string\n",
        "cadena_simple=\"hola, mundo\"\n",
        "cadena_multi=\"\"\"cadena de varias lineas\"\"\""
      ],
      "metadata": {
        "id": "ZtbQaF1P7jmD"
      },
      "execution_count": 10,
      "outputs": []
    },
    {
      "cell_type": "markdown",
      "source": [
        "## 4.Operadores aritmeticos"
      ],
      "metadata": {
        "id": "9ACrUff59Z0B"
      }
    },
    {
      "cell_type": "code",
      "source": [
        "a=10\n",
        "b=5\n",
        "# suma\n",
        "print(a+b)\n",
        "# resta\n",
        "print(a-b)\n",
        "# multiplicacion\n",
        "print(a*b)\n",
        "# division\n",
        "print(a/b)\n",
        "# division entera\n",
        "print(a//b)\n",
        "# modulo\n",
        "print(a%b)"
      ],
      "metadata": {
        "colab": {
          "base_uri": "https://localhost:8080/"
        },
        "id": "wPGAB2aG9GQp",
        "outputId": "31fcb6ef-0641-4264-b4f8-4e46d5fdde30"
      },
      "execution_count": 11,
      "outputs": [
        {
          "output_type": "stream",
          "name": "stdout",
          "text": [
            "15\n",
            "5\n",
            "50\n",
            "2.0\n",
            "2\n",
            "0\n"
          ]
        }
      ]
    },
    {
      "cell_type": "code",
      "source": [],
      "metadata": {
        "id": "YeN5P27a_GSv"
      },
      "execution_count": null,
      "outputs": []
    }
  ]
}