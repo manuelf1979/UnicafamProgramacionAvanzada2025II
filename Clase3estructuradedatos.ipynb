{
  "nbformat": 4,
  "nbformat_minor": 0,
  "metadata": {
    "colab": {
      "provenance": [],
      "authorship_tag": "ABX9TyPaShP/a9HFLV0ZbeOEFsrO",
      "include_colab_link": true
    },
    "kernelspec": {
      "name": "python3",
      "display_name": "Python 3"
    },
    "language_info": {
      "name": "python"
    }
  },
  "cells": [
    {
      "cell_type": "markdown",
      "metadata": {
        "id": "view-in-github",
        "colab_type": "text"
      },
      "source": [
        "<a href=\"https://colab.research.google.com/github/manuelf1979/UnicafamProgramacionAvanzada2025II/blob/main/Clase3estructuradedatos.ipynb\" target=\"_parent\"><img src=\"https://colab.research.google.com/assets/colab-badge.svg\" alt=\"Open In Colab\"/></a>"
      ]
    },
    {
      "cell_type": "markdown",
      "source": [
        "**Estructura de datos**\n",
        "\n",
        "Programación avanzada\n",
        "\n",
        "Ingenieria Industrial\n",
        "\n",
        "Facultad de Ingenieria\n",
        "\n",
        "Unicafam\n",
        "\n",
        "Docente: Nicolas Mojica\n",
        "\n",
        "Estudiante: Manuel Fajardo"
      ],
      "metadata": {
        "id": "A9YGVKIg5O7x"
      }
    },
    {
      "cell_type": "markdown",
      "source": [
        "## Listas"
      ],
      "metadata": {
        "id": "qPMZxRSN7C5I"
      }
    },
    {
      "cell_type": "code",
      "execution_count": 1,
      "metadata": {
        "id": "62kzzcIq4azw"
      },
      "outputs": [],
      "source": [
        "#crear lista vacia\n",
        "mi_lista=[]\n",
        "\n",
        "#crear una lista con elementos\n",
        "mi_lista=[1,2,3,\"vaca\",5.0]"
      ]
    },
    {
      "cell_type": "code",
      "source": [
        "mi_lista = [10, 20, 30, 40, 50]\n",
        "#acceder al 30\n",
        "print(mi_lista[2])\n",
        "\n",
        "#acceder al 10\n",
        "print(mi_lista[0])"
      ],
      "metadata": {
        "colab": {
          "base_uri": "https://localhost:8080/"
        },
        "id": "vIG8zcOl8A7N",
        "outputId": "723c9595-73d9-4171-863e-a6197816307d"
      },
      "execution_count": 2,
      "outputs": [
        {
          "output_type": "stream",
          "name": "stdout",
          "text": [
            "30\n",
            "10\n"
          ]
        }
      ]
    },
    {
      "cell_type": "code",
      "source": [
        "# conocer la posicion del elemento a patir de su valor\n",
        "print(mi_lista.index(50))"
      ],
      "metadata": {
        "colab": {
          "base_uri": "https://localhost:8080/"
        },
        "id": "mASVYJfX9cD4",
        "outputId": "c271edd3-5f0b-4b2d-8682-6bcf43dc277d"
      },
      "execution_count": 3,
      "outputs": [
        {
          "output_type": "stream",
          "name": "stdout",
          "text": [
            "4\n"
          ]
        }
      ]
    },
    {
      "cell_type": "code",
      "source": [
        "# diseñe un programa de actualizacion de datos que le permita al usuario modificar su nombre siempre y cuando exista\n",
        "compañeros_clase=[\"Isabel\",\"Vincet\",\"Manuel\",\"Jhon\"]\n",
        "\n",
        "#mensaje de bienvenida\n",
        "print(\"-------PROGRAMA ACTUALIZACION DE DATOS-------\")\n",
        "\n",
        "#preguntar al usuario que nombre buscar\n",
        "nombre_buscar=input(\"ingrese nombre a buscar: \")\n",
        "\n",
        "#definicion de la condicional\n",
        "#si el nombre del usuario existe en la lista\n",
        "if nombre_buscar in compañeros_clase:\n",
        "\n",
        "  #encuentra la posicion o el indice del nombre que ingreso el usuario dentro de la lista\n",
        "  pos=compañeros_clase.index(nombre_buscar)\n",
        "\n",
        "  #actualizo la posicion dentro de la lista con el nombre que me indique el usuario\n",
        "  compañeros_clase[pos]=input(\"ingrese nuevo nombre\")\n",
        "\n",
        "  #imprime la lista actualizada\n",
        "  print(compañeros_clase)\n",
        "else:\n",
        "  #en caso de que el nombre que ingreso el usuario no exista le muestra el siguiente mensaje\n",
        "  print(\"su nombre no esta en la lista\")"
      ],
      "metadata": {
        "colab": {
          "base_uri": "https://localhost:8080/"
        },
        "id": "FwwZx-T5-AUz",
        "outputId": "b035cc24-b9c0-4d45-c6b0-0d499920a4f8"
      },
      "execution_count": 5,
      "outputs": [
        {
          "output_type": "stream",
          "name": "stdout",
          "text": [
            "-------PROGRAMA ACTUALIZACION DE DATOS-------\n",
            "ingrese nombre a buscar: Vincet\n",
            "ingrese nuevo nombreVins\n",
            "['Isabel', 'Vins', 'Manuel', 'Jhon']\n"
          ]
        }
      ]
    },
    {
      "cell_type": "code",
      "source": [
        "# metodos en las listas\n",
        "# actualizacion de datos en una lista\n",
        "mi_lista = [10, 20, 30, 40, 50]\n",
        "# cambiar elemento de una lista\n",
        "# llamar a la lista, determinar la posicion del elemento a cambiar y finalmente establecer el nuevo valor\n",
        "\n",
        "# cambiar el 40 por el 1.5\n",
        "mi_lista[3]=1.5\n",
        "print(mi_lista)\n"
      ],
      "metadata": {
        "colab": {
          "base_uri": "https://localhost:8080/"
        },
        "id": "E73gqqBaBMFi",
        "outputId": "1ad13114-28cd-468c-b801-7b7e6b8b59eb"
      },
      "execution_count": 6,
      "outputs": [
        {
          "output_type": "stream",
          "name": "stdout",
          "text": [
            "[10, 20, 30, 1.5, 50]\n"
          ]
        }
      ]
    },
    {
      "cell_type": "code",
      "source": [
        "# cambiar el 50 por voy a pasar el parcial con 5\n",
        "mi_lista[4]=\"voy a pasar el parcial con 5\"\n",
        "print(mi_lista)"
      ],
      "metadata": {
        "colab": {
          "base_uri": "https://localhost:8080/"
        },
        "id": "NVmVlQIXFHFx",
        "outputId": "a6ea7d50-e4c4-4fc4-a4e0-ed8bfe8df54a"
      },
      "execution_count": 7,
      "outputs": [
        {
          "output_type": "stream",
          "name": "stdout",
          "text": [
            "[10, 20, 30, 1.5, 'voy a pasar el parcial con 5']\n"
          ]
        }
      ]
    },
    {
      "cell_type": "code",
      "source": [
        "# agregar elementos a la lista\n",
        "mi_lista = [10, 20, 30, 40, 50]\n",
        "mi_lista.append(60)\n",
        "print(mi_lista)"
      ],
      "metadata": {
        "colab": {
          "base_uri": "https://localhost:8080/"
        },
        "id": "R5MN4I-lFkbe",
        "outputId": "db1d2784-29e4-43a8-d234-af34602daa30"
      },
      "execution_count": 8,
      "outputs": [
        {
          "output_type": "stream",
          "name": "stdout",
          "text": [
            "[10, 20, 30, 40, 50, 60]\n"
          ]
        }
      ]
    },
    {
      "cell_type": "code",
      "source": [
        "# agregar elementos a una lista en una posicion especifica\n",
        "mi_lista.insert(1,15)\n",
        "print(mi_lista)"
      ],
      "metadata": {
        "colab": {
          "base_uri": "https://localhost:8080/"
        },
        "id": "EmpYC_gxG3sZ",
        "outputId": "3f730240-478c-4a79-cf90-6244728e6d67"
      },
      "execution_count": 9,
      "outputs": [
        {
          "output_type": "stream",
          "name": "stdout",
          "text": [
            "[10, 15, 20, 30, 40, 50, 60]\n"
          ]
        }
      ]
    },
    {
      "cell_type": "code",
      "source": [
        "# eliminar elemento de una lista\n",
        "del mi_lista[5]\n",
        "print(mi_lista)\n"
      ],
      "metadata": {
        "colab": {
          "base_uri": "https://localhost:8080/"
        },
        "id": "mGev9roYHJ4N",
        "outputId": "12a5c475-e28d-49b6-a395-856a677d7d07"
      },
      "execution_count": 13,
      "outputs": [
        {
          "output_type": "stream",
          "name": "stdout",
          "text": [
            "[10, 15, 20, 30, 40, 60]\n"
          ]
        }
      ]
    },
    {
      "cell_type": "code",
      "source": [
        "# diseñe un programa de actualizacion de datos que le permita al usuario modificar su nombre siempre y cuando exista\n",
        "compañeros_clase=[\"Isabel\",\"Vincet\",\"Manuel\",\"Jhon\"]\n",
        "\n",
        "#mensaje de bienvenida\n",
        "print(\"-------PROGRAMA ACTUALIZACION DE DATOS-------\")\n",
        "\n",
        "#preguntar al usuario que nombre buscar\n",
        "nombre_buscar=input(\"ingrese nombre a buscar: \")\n",
        "\n",
        "#definicion de la condicional\n",
        "#si el nombre del usuario existe en la lista\n",
        "if nombre_buscar in compañeros_clase:\n",
        "\n",
        "  #encuentra la posicion o el indice del nombre que ingreso el usuario dentro de la lista\n",
        "  pos=compañeros_clase.index(nombre_buscar)\n",
        "\n",
        "  #actualizo la posicion dentro de la lista con el nombre que me indique el usuario\n",
        "  compañeros_clase[pos]=input(\"ingrese nuevo nombre\")\n",
        "\n",
        "  #imprime la lista actualizada\n",
        "  print(compañeros_clase)\n",
        "else:\n",
        "  #en caso de que el nombre que ingreso el usuario no exista le muestra el siguiente mensaje\n",
        "  print(\"su nombre no esta en la lista, agregue\")\n",
        "  nombre_nuevo=compañeros_clase.append(input(\"ingrese nuevo nombre\"))\n",
        "  print(f\"felicidades, su nombre a sido agregado exitosamente:{nombre_nuevo}\")\n"
      ],
      "metadata": {
        "colab": {
          "base_uri": "https://localhost:8080/"
        },
        "id": "GTseCJXNH-eY",
        "outputId": "478b2105-e1ae-4d75-907b-8dca2dcfde3a"
      },
      "execution_count": 11,
      "outputs": [
        {
          "output_type": "stream",
          "name": "stdout",
          "text": [
            "-------PROGRAMA ACTUALIZACION DE DATOS-------\n",
            "ingrese nombre a buscar: Carlos\n",
            "su nombre no esta en la lista, agregue\n",
            "ingrese nuevo nombreCarlos\n",
            "felicidades, su nombre a sido agregado exitosamente:None\n"
          ]
        }
      ]
    },
    {
      "cell_type": "code",
      "source": [
        "print(compañeros_clase)"
      ],
      "metadata": {
        "colab": {
          "base_uri": "https://localhost:8080/"
        },
        "id": "HNdbd02oKD3y",
        "outputId": "29b94f88-1250-46c3-f13c-6897dd5296c2"
      },
      "execution_count": 12,
      "outputs": [
        {
          "output_type": "stream",
          "name": "stdout",
          "text": [
            "['Isabel', 'Vincet', 'Manuel', 'Jhon', 'Carlos']\n"
          ]
        }
      ]
    },
    {
      "cell_type": "code",
      "source": [],
      "metadata": {
        "id": "GR9psvrVKQHL"
      },
      "execution_count": null,
      "outputs": []
    }
  ]
}